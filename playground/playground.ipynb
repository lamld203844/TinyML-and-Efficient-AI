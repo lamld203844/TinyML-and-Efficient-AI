{
 "cells": [
  {
   "cell_type": "code",
   "execution_count": 4,
   "metadata": {},
   "outputs": [],
   "source": [
    "import segmentation_models_pytorch as smp\n",
    "\n",
    "# scSE Unet-vgg\n",
    "unet_vgg = smp.Unet(\n",
    "    encoder_name=\"vgg11\",        # choose encoder, e.g. mobilenet_v2 or efficientnet-b7\n",
    "    # encoder_weights=\"imagenet\",     # use `imagenet` pre-trained weights for encoder initialization\n",
    "    decoder_attention_type ='scse',\n",
    "    in_channels=1,                  # model input channels (1 for gray-scale images, 3 for RGB, etc.)\n",
    "    classes=3,                      # model output channels (number of classes in your dataset)\n",
    ")\n",
    "\n",
    "# scSE Unet\n",
    "unet_scse = smp.Unet(\n",
    "    encoder_name='efficientnet-b5',\n",
    "#     encoder_weights='imagenet', # use `imagenet` pre-trained weights for encoder initialization\n",
    "#     decoder_use_batchnorm=True,\n",
    "    decoder_attention_type='scse',\n",
    "    in_channels=1, # model input channels (1 for gray-scale images, 3 for RGB, etc.)\n",
    "    classes=3, # model output channels (number of classes in your dataset)\n",
    ")"
   ]
  },
  {
   "cell_type": "code",
   "execution_count": 1,
   "metadata": {},
   "outputs": [],
   "source": [
    "import torch\n",
    "import torch.quantization\n",
    "\n",
    "class E4M3FakeQuant(torch.quantization.FakeQuantize):\n",
    "    def __init__(self):\n",
    "        super().__init__(\n",
    "            observer=torch.quantization.MinMaxObserver,\n",
    "            quant_min=-8,  # Adjust based on e4m3 range\n",
    "            quant_max=7,\n",
    "            dtype=torch.qint8,  # Closest available\n",
    "        )\n",
    "\n",
    "# Apply to a model\n",
    "model = torch.nn.Linear(10, 10)\n",
    "model.weight_fake_quant = E4M3FakeQuant()"
   ]
  }
 ],
 "metadata": {
  "kernelspec": {
   "display_name": "Python 3",
   "language": "python",
   "name": "python3"
  },
  "language_info": {
   "codemirror_mode": {
    "name": "ipython",
    "version": 3
   },
   "file_extension": ".py",
   "mimetype": "text/x-python",
   "name": "python",
   "nbconvert_exporter": "python",
   "pygments_lexer": "ipython3",
   "version": "3.10.12"
  }
 },
 "nbformat": 4,
 "nbformat_minor": 2
}
